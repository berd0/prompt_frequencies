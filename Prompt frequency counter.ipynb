{
 "cells": [
  {
   "cell_type": "code",
   "execution_count": 1,
   "metadata": {
    "collapsed": true,
    "ExecuteTime": {
     "end_time": "2023-07-30T14:08:46.816290100Z",
     "start_time": "2023-07-30T14:08:46.808277600Z"
    }
   },
   "outputs": [],
   "source": [
    "import os\n",
    "import collections\n",
    "import re\n",
    "\n",
    "def count_word_occurrences(input_directory, output_directory):\n",
    "    counter = collections.Counter()\n",
    "    for filename in os.listdir(input_directory):\n",
    "        if filename.endswith(\".txt\"):\n",
    "            with open(os.path.join(input_directory, filename), 'r') as file:\n",
    "                data = file.read()\n",
    "                words = re.split(r',\\s*', data)\n",
    "                counter.update(words)\n",
    "\n",
    "    # Get the base name of the input directory\n",
    "    base_name = os.path.basename(input_directory)\n",
    "    # Extract the required name\n",
    "    output_file_name = re.search(r'_([^_]*)', base_name).group(1) + '.txt'\n",
    "\n",
    "    with open(os.path.join(output_directory, output_file_name), 'w') as file:\n",
    "        for word, count in counter.most_common():\n",
    "            file.write(f'{word},{count}\\n')\n",
    "\n"
   ]
  },
  {
   "cell_type": "code",
   "execution_count": 2,
   "outputs": [
    {
     "ename": "FileNotFoundError",
     "evalue": "[WinError 3] The system cannot find the path specified: 'directory in'",
     "output_type": "error",
     "traceback": [
      "\u001B[1;31m---------------------------------------------------------------------------\u001B[0m",
      "\u001B[1;31mFileNotFoundError\u001B[0m                         Traceback (most recent call last)",
      "Cell \u001B[1;32mIn[2], line 2\u001B[0m\n\u001B[0;32m      1\u001B[0m \u001B[38;5;66;03m# Call the function with the paths to your directories\u001B[39;00m\n\u001B[1;32m----> 2\u001B[0m \u001B[43mcount_word_occurrences\u001B[49m\u001B[43m(\u001B[49m\u001B[38;5;124;43m\"\u001B[39;49m\u001B[38;5;124;43mdirectory in\u001B[39;49m\u001B[38;5;124;43m\"\u001B[39;49m\u001B[43m,\u001B[49m\u001B[43m \u001B[49m\u001B[38;5;124;43m\"\u001B[39;49m\u001B[38;5;124;43mdirectory out\u001B[39;49m\u001B[38;5;124;43m\"\u001B[39;49m\u001B[43m)\u001B[49m\n",
      "Cell \u001B[1;32mIn[1], line 7\u001B[0m, in \u001B[0;36mcount_word_occurrences\u001B[1;34m(input_directory, output_directory)\u001B[0m\n\u001B[0;32m      5\u001B[0m \u001B[38;5;28;01mdef\u001B[39;00m \u001B[38;5;21mcount_word_occurrences\u001B[39m(input_directory, output_directory):\n\u001B[0;32m      6\u001B[0m     counter \u001B[38;5;241m=\u001B[39m collections\u001B[38;5;241m.\u001B[39mCounter()\n\u001B[1;32m----> 7\u001B[0m     \u001B[38;5;28;01mfor\u001B[39;00m filename \u001B[38;5;129;01min\u001B[39;00m \u001B[43mos\u001B[49m\u001B[38;5;241;43m.\u001B[39;49m\u001B[43mlistdir\u001B[49m\u001B[43m(\u001B[49m\u001B[43minput_directory\u001B[49m\u001B[43m)\u001B[49m:\n\u001B[0;32m      8\u001B[0m         \u001B[38;5;28;01mif\u001B[39;00m filename\u001B[38;5;241m.\u001B[39mendswith(\u001B[38;5;124m\"\u001B[39m\u001B[38;5;124m.txt\u001B[39m\u001B[38;5;124m\"\u001B[39m):\n\u001B[0;32m      9\u001B[0m             \u001B[38;5;28;01mwith\u001B[39;00m \u001B[38;5;28mopen\u001B[39m(os\u001B[38;5;241m.\u001B[39mpath\u001B[38;5;241m.\u001B[39mjoin(input_directory, filename), \u001B[38;5;124m'\u001B[39m\u001B[38;5;124mr\u001B[39m\u001B[38;5;124m'\u001B[39m) \u001B[38;5;28;01mas\u001B[39;00m file:\n",
      "\u001B[1;31mFileNotFoundError\u001B[0m: [WinError 3] The system cannot find the path specified: 'directory in'"
     ]
    }
   ],
   "source": [
    "# Call the function with the paths to your directories\n",
    "count_word_occurrences(\"directory in\", \"directory out\")"
   ],
   "metadata": {
    "collapsed": false,
    "ExecuteTime": {
     "end_time": "2023-07-30T14:08:47.479877900Z",
     "start_time": "2023-07-30T14:08:46.816789600Z"
    }
   }
  },
  {
   "cell_type": "markdown",
   "source": [],
   "metadata": {
    "collapsed": false
   }
  },
  {
   "cell_type": "markdown",
   "source": [],
   "metadata": {
    "collapsed": false
   }
  },
  {
   "cell_type": "code",
   "execution_count": null,
   "outputs": [],
   "source": [],
   "metadata": {
    "collapsed": false
   }
  }
 ],
 "metadata": {
  "kernelspec": {
   "display_name": "Python 3",
   "language": "python",
   "name": "python3"
  },
  "language_info": {
   "codemirror_mode": {
    "name": "ipython",
    "version": 2
   },
   "file_extension": ".py",
   "mimetype": "text/x-python",
   "name": "python",
   "nbconvert_exporter": "python",
   "pygments_lexer": "ipython2",
   "version": "2.7.6"
  }
 },
 "nbformat": 4,
 "nbformat_minor": 0
}
