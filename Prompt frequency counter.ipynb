{
 "cells": [
  {
   "cell_type": "code",
   "execution_count": 1,
   "metadata": {
    "collapsed": true,
    "ExecuteTime": {
     "end_time": "2023-07-29T19:28:03.967119900Z",
     "start_time": "2023-07-29T19:28:03.958097100Z"
    }
   },
   "outputs": [],
   "source": [
    "import os\n",
    "import collections\n",
    "import re\n",
    "\n",
    "def count_word_occurrences(input_directory, output_directory):\n",
    "    counter = collections.Counter()\n",
    "    for filename in os.listdir(input_directory):\n",
    "        if filename.endswith(\".txt\"):\n",
    "            with open(os.path.join(input_directory, filename), 'r') as file:\n",
    "                data = file.read()\n",
    "                words = re.split(r',\\s*', data)\n",
    "                counter.update(words)\n",
    "\n",
    "    # Get the base name of the input directory\n",
    "    base_name = os.path.basename(input_directory)\n",
    "    # Extract the required name\n",
    "    output_file_name = re.search(r'_([^_]*)', base_name).group(1) + '.txt'\n",
    "\n",
    "    with open(os.path.join(output_directory, output_file_name), 'w') as file:\n",
    "        for word, count in counter.most_common():\n",
    "            file.write(f'{word},{count}\\n')\n",
    "\n"
   ]
  },
  {
   "cell_type": "code",
   "execution_count": 3,
   "outputs": [],
   "source": [
    "# Call the function with the paths to your directories\n",
    "count_word_occurrences(\"D:\\\\automatic1111\\\\project_x\\\\vyai_bakery\\\\img\\\\80_vy bakery\", \"D:\\\\automatic1111\\\\project_x\\\\prompts\")"
   ],
   "metadata": {
    "collapsed": false,
    "ExecuteTime": {
     "end_time": "2023-07-29T19:28:23.748530900Z",
     "start_time": "2023-07-29T19:28:23.691424800Z"
    }
   }
  },
  {
   "cell_type": "markdown",
   "source": [],
   "metadata": {
    "collapsed": false
   }
  },
  {
   "cell_type": "code",
   "execution_count": null,
   "outputs": [],
   "source": [],
   "metadata": {
    "collapsed": false
   }
  }
 ],
 "metadata": {
  "kernelspec": {
   "display_name": "Python 3",
   "language": "python",
   "name": "python3"
  },
  "language_info": {
   "codemirror_mode": {
    "name": "ipython",
    "version": 2
   },
   "file_extension": ".py",
   "mimetype": "text/x-python",
   "name": "python",
   "nbconvert_exporter": "python",
   "pygments_lexer": "ipython2",
   "version": "2.7.6"
  }
 },
 "nbformat": 4,
 "nbformat_minor": 0
}
